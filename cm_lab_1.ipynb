{
  "nbformat": 4,
  "nbformat_minor": 0,
  "metadata": {
    "colab": {
      "provenance": [],
      "authorship_tag": "ABX9TyMETkQH1ZdN8sF3W/Qe2wkC",
      "include_colab_link": true
    },
    "kernelspec": {
      "name": "python3",
      "display_name": "Python 3"
    },
    "language_info": {
      "name": "python"
    }
  },
  "cells": [
    {
      "cell_type": "markdown",
      "metadata": {
        "id": "view-in-github",
        "colab_type": "text"
      },
      "source": [
        "<a href=\"https://colab.research.google.com/github/BogdanTurbal/cm_lab_1_pos_9/blob/main/cm_lab_1.ipynb\" target=\"_parent\"><img src=\"https://colab.research.google.com/assets/colab-badge.svg\" alt=\"Open In Colab\"/></a>"
      ]
    },
    {
      "cell_type": "code",
      "execution_count": null,
      "metadata": {
        "id": "87aQ1Lvo1zbN"
      },
      "outputs": [],
      "source": [
        "import numpy as np\n",
        "import math\n",
        "\n",
        "import matplotlib.pyplot as plt"
      ]
    },
    {
      "cell_type": "markdown",
      "source": [
        "# Task 1"
      ],
      "metadata": {
        "id": "BjeYgCVKGdRd"
      }
    },
    {
      "cell_type": "code",
      "source": [
        "def underintegr_func(x):\n",
        "  return -np.log(np.cos(x))"
      ],
      "metadata": {
        "id": "n0fQ5faQ13xy"
      },
      "execution_count": null,
      "outputs": []
    },
    {
      "cell_type": "code",
      "source": [
        "def underintegr_func_2(x):\n",
        "  arg = np.sin(x) / x\n",
        "  arg[np.where(x == 0)] = 1\n",
        "  res = np.log(arg)\n",
        "  return res"
      ],
      "metadata": {
        "id": "OI-Ofl9IXZSU"
      },
      "execution_count": null,
      "outputs": []
    },
    {
      "cell_type": "code",
      "source": [
        "def compute_integral(start, end, n_step, func):\n",
        "  steps = np.linspace(start, end, n_step)\n",
        "  h = steps[1] - steps[0]\n",
        "  func_vals = func(steps)\n",
        "  sum_i = np.sum(func_vals[1:-1])\n",
        "  sum_i += (func_vals[0] + func_vals[-1]) / 2\n",
        "  sum_i *= h\n",
        "  return sum_i"
      ],
      "metadata": {
        "id": "kxevsFJDFl5J"
      },
      "execution_count": null,
      "outputs": []
    },
    {
      "cell_type": "code",
      "source": [
        "def get_n(xn, eps):\n",
        "  h = np.sqrt((np.cos(xn)**2 * 12 * eps) / xn)\n",
        "  return int(1 / h) + 1"
      ],
      "metadata": {
        "id": "bNKBiEUCL4NH"
      },
      "execution_count": null,
      "outputs": []
    },
    {
      "cell_type": "code",
      "source": [
        "# res = underintegr_func(np.linspace(0, 1, 100))"
      ],
      "metadata": {
        "id": "whyAoOkT2V7V"
      },
      "execution_count": null,
      "outputs": []
    },
    {
      "cell_type": "code",
      "source": [
        "x_n = np.linspace(0, np.pi / 2, 19)"
      ],
      "metadata": {
        "id": "QSruVmvmLXTm"
      },
      "execution_count": null,
      "outputs": []
    },
    {
      "cell_type": "code",
      "source": [
        "#x_n[0]"
      ],
      "metadata": {
        "id": "nzF3iY1OM4vT"
      },
      "execution_count": null,
      "outputs": []
    },
    {
      "cell_type": "code",
      "source": [
        "start_epsilon = 1e-3"
      ],
      "metadata": {
        "id": "dK--ueD02Prd"
      },
      "execution_count": null,
      "outputs": []
    },
    {
      "cell_type": "code",
      "source": [
        "itegr_0 = compute_integral(0, np.pi / 36, int(1 / start_epsilon), func=underintegr_func)\n",
        "print(itegr_0)"
      ],
      "metadata": {
        "colab": {
          "base_uri": "https://localhost:8080/"
        },
        "id": "YOflUWA0LiJD",
        "outputId": "abbaeefc-d70b-489b-fa47-ca60dee0f1d0"
      },
      "execution_count": null,
      "outputs": [
        {
          "output_type": "stream",
          "name": "stdout",
          "text": [
            "0.00011084654777260447\n"
          ]
        }
      ]
    },
    {
      "cell_type": "code",
      "source": [
        "opt_epsilon = 5e-6"
      ],
      "metadata": {
        "id": "QsF6BQzyLq_G"
      },
      "execution_count": null,
      "outputs": []
    },
    {
      "cell_type": "code",
      "source": [
        "f_x = [0]\n",
        "for i in range(1, 19 - 1):\n",
        "  n = get_n(x_n[i], opt_epsilon)\n",
        "  #print(n)\n",
        "  itegr = compute_integral(0, x_n[i], n, func=underintegr_func)\n",
        "  f_x.append(itegr)\n",
        "f_x.append(0.861452 - compute_integral(0, np.pi/2, 59, func=underintegr_func_2))"
      ],
      "metadata": {
        "id": "4ePXXpHPL0su",
        "colab": {
          "base_uri": "https://localhost:8080/"
        },
        "outputId": "0aae656b-fe31-4040-bc47-ba2723ed72dd"
      },
      "execution_count": null,
      "outputs": [
        {
          "output_type": "stream",
          "name": "stderr",
          "text": [
            "<ipython-input-125-09bbfcece814>:2: RuntimeWarning: invalid value encountered in divide\n",
            "  arg = np.sin(x) / x\n"
          ]
        }
      ]
    },
    {
      "cell_type": "code",
      "source": [
        "f_x"
      ],
      "metadata": {
        "colab": {
          "base_uri": "https://localhost:8080/"
        },
        "id": "JU-EqO7CXtR3",
        "outputId": "41620baa-34a3-4b95-c3c1-edf08f24430e"
      },
      "execution_count": null,
      "outputs": [
        {
          "output_type": "execute_result",
          "data": {
            "text/plain": [
              "[0,\n",
              " 0.0001108849422868527,\n",
              " 0.0008889646325825894,\n",
              " 0.003011674572119429,\n",
              " 0.007177771301019508,\n",
              " 0.014119695396346934,\n",
              " 0.02461829833989367,\n",
              " 0.03952111082078132,\n",
              " 0.059766443210387946,\n",
              " 0.08641570859396273,\n",
              " 0.1206997752811985,\n",
              " 0.1640875464528735,\n",
              " 0.2183934979524218,\n",
              " 0.2859573978642788,\n",
              " 0.3699704921062198,\n",
              " 0.47513961228408863,\n",
              " 0.6092937873029063,\n",
              " 0.7886658067530636,\n",
              " 1.0888320846026627]"
            ]
          },
          "metadata": {},
          "execution_count": 140
        }
      ]
    },
    {
      "cell_type": "code",
      "source": [
        "plt.plot(x_n, f_x)"
      ],
      "metadata": {
        "colab": {
          "base_uri": "https://localhost:8080/",
          "height": 447
        },
        "id": "rSLuXIQJNGve",
        "outputId": "05df33d1-40c4-4655-9fcb-8f3942894dd5"
      },
      "execution_count": null,
      "outputs": [
        {
          "output_type": "execute_result",
          "data": {
            "text/plain": [
              "[<matplotlib.lines.Line2D at 0x7b1f69f89330>]"
            ]
          },
          "metadata": {},
          "execution_count": 141
        },
        {
          "output_type": "display_data",
          "data": {
            "text/plain": [
              "<Figure size 640x480 with 1 Axes>"
            ],
            "image/png": "[encoded data removed]"
          },
          "metadata": {}
        }
      ]
    },
    {
      "cell_type": "code",
      "source": [
        "# errors = [0]\n",
        "# for i in range(1, 18):\n",
        "#   errors.append(1 / np.cos(x_n[i])**2)"
      ],
      "metadata": {
        "id": "v8C56MH2ND7a"
      },
      "execution_count": null,
      "outputs": []
    },
    {
      "cell_type": "code",
      "source": [
        "# plt.plot(errors)"
      ],
      "metadata": {
        "id": "7ewWHzNlNswL"
      },
      "execution_count": null,
      "outputs": []
    },
    {
      "cell_type": "markdown",
      "source": [
        "# Task 2"
      ],
      "metadata": {
        "id": "aFtgxRc0sFrG"
      }
    },
    {
      "cell_type": "code",
      "source": [
        "def func(x):\n",
        "  denum = np.sqrt(x)\n",
        "  res = (np.exp(x) - 1 - x - np.power(x, 2) / 2 - np.power(x, 3) / 6) / denum\n",
        "  res[np.where(x == 0)] = 0\n",
        "  return res"
      ],
      "metadata": {
        "id": "UG21vN3VNviM"
      },
      "execution_count": null,
      "outputs": []
    },
    {
      "cell_type": "code",
      "source": [
        "compute_integral(0, 1, 100, func=func)"
      ],
      "metadata": {
        "colab": {
          "base_uri": "https://localhost:8080/"
        },
        "id": "0B-CYk2nsaol",
        "outputId": "fa17a038-da00-4427-e9fc-0294b72041b8"
      },
      "execution_count": null,
      "outputs": [
        {
          "output_type": "stream",
          "name": "stderr",
          "text": [
            "<ipython-input-146-d75687f5b6c7>:3: RuntimeWarning: invalid value encountered in divide\n",
            "  res = (np.exp(x) - 1 - x - np.power(x, 2) / 2 - np.power(x, 3) / 6) / denum\n"
          ]
        },
        {
          "output_type": "execute_result",
          "data": {
            "text/plain": [
              "0.01101941403266142"
            ]
          },
          "metadata": {},
          "execution_count": 147
        }
      ]
    },
    {
      "cell_type": "markdown",
      "source": [
        "# Task 3"
      ],
      "metadata": {
        "id": "8ZlHJWnFtMGi"
      }
    },
    {
      "cell_type": "code",
      "source": [
        "def func_2(x):\n",
        "  return 1 / (1 + np.power(x, 3))"
      ],
      "metadata": {
        "id": "xevYa1Az26YV"
      },
      "execution_count": null,
      "outputs": []
    },
    {
      "cell_type": "code",
      "source": [
        "def compute_integral_simpson(start, end, n_step, func):\n",
        "  steps = np.linspace(start, end, n_step)\n",
        "  h = steps[1] - steps[0]\n",
        "  func_vals = func(steps)\n",
        "  sum_i = 0\n",
        "  for i in range(1, n_step, 2):\n",
        "    sum_i += 4 * func_vals[i]\n",
        "\n",
        "  for i in range(2, n_step-1, 2):\n",
        "    sum_i += 2 * func_vals[i]\n",
        "\n",
        "  sum_i += func_vals[0] + func_vals[-1]\n",
        "  #sum_i += (func_vals[0] + func_vals[-1]) / 2\n",
        "  sum_i *= h / 3\n",
        "  return sum_i"
      ],
      "metadata": {
        "id": "6PToftlHsiZV"
      },
      "execution_count": null,
      "outputs": []
    },
    {
      "cell_type": "code",
      "source": [
        "por_acc = 4"
      ],
      "metadata": {
        "id": "OuzYSeSg3ayj"
      },
      "execution_count": null,
      "outputs": []
    },
    {
      "cell_type": "code",
      "source": [
        "def runge_process(start, end, func, eps, init_steps=50):\n",
        "  n_step = init_steps\n",
        "  integ_1, integ_2 = compute_integral_simpson(start, end, n_step, func_2), compute_integral_simpson(start, end, n_step * 2, func_2)\n",
        "  n_step *= 2\n",
        "  while np.abs(integ_1 - integ_2) / (2 ** por_acc - 1) > eps:\n",
        "    integ_1 = integ_2\n",
        "    n_step *= 2\n",
        "    integ_2 = compute_integral_simpson(start, end, n_step, func_2)\n",
        "  print(n_step)\n",
        "  return integ_2"
      ],
      "metadata": {
        "id": "ItuKfN0a3TT0"
      },
      "execution_count": null,
      "outputs": []
    },
    {
      "cell_type": "code",
      "source": [
        "compute_integral_simpson(2, 400, 1000, func_2)"
      ],
      "metadata": {
        "colab": {
          "base_uri": "https://localhost:8080/"
        },
        "id": "Oa-CUtZe24IE",
        "outputId": "bfd13b84-40fd-438a-96d9-ec375f6b6f5f"
      },
      "execution_count": null,
      "outputs": [
        {
          "output_type": "execute_result",
          "data": {
            "text/plain": [
              "0.1192559128418185"
            ]
          },
          "metadata": {},
          "execution_count": 176
        }
      ]
    },
    {
      "cell_type": "code",
      "source": [
        "runge_process(2, 400, func_2, 0.0025, init_steps=100)"
      ],
      "metadata": {
        "colab": {
          "base_uri": "https://localhost:8080/"
        },
        "id": "cBf1Oalz3HQN",
        "outputId": "540c768f-baf2-40fa-a9e6-3be2a92e534b"
      },
      "execution_count": null,
      "outputs": [
        {
          "output_type": "stream",
          "name": "stdout",
          "text": [
            "400\n"
          ]
        },
        {
          "output_type": "execute_result",
          "data": {
            "text/plain": [
              "0.12088296726525855"
            ]
          },
          "metadata": {},
          "execution_count": 177
        }
      ]
    },
    {
      "cell_type": "code",
      "source": [],
      "metadata": {
        "id": "123FNHEY4i4T"
      },
      "execution_count": null,
      "outputs": []
    }
  ]
}